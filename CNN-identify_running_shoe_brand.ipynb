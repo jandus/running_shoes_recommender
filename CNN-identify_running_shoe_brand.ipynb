{
 "cells": [
  {
   "cell_type": "markdown",
   "metadata": {},
   "source": [
    "# CNN - Identify running shoe brand - Initial notebook\n",
    "\n",
    "This part of the project is to build a model that identifies the brand of a running shoe based on an image."
   ]
  },
  {
   "cell_type": "markdown",
   "metadata": {},
   "source": [
    "**Agenda**\n",
    "- Collecting data\n",
    "- Importing libraries and splitting data to train and test\n",
    "- Building the network\n",
    "- Data augmentation\n",
    "- Training\n",
    "- Testing"
   ]
  },
  {
   "cell_type": "markdown",
   "metadata": {},
   "source": [
    "## Collect data\n",
    "\n"
   ]
  },
  {
   "cell_type": "code",
   "execution_count": null,
   "metadata": {},
   "outputs": [],
   "source": [
    "from PIL import Image\n",
    "import os"
   ]
  },
  {
   "cell_type": "code",
   "execution_count": 61,
   "metadata": {},
   "outputs": [],
   "source": [
    "def get_files_no_jpg(orig_path, ext=\".png\"):\n",
    "    files_list = []\n",
    "    for file in os.listdir(orig_path):\n",
    "        if file.endswith(ext):\n",
    "            files_list.append(file)\n",
    "    return files_list"
   ]
  },
  {
   "cell_type": "code",
   "execution_count": 62,
   "metadata": {},
   "outputs": [],
   "source": [
    "def convert_to_png(files_list, orig_path, dest_path):\n",
    "    for file in files_list:\n",
    "        file_name, ext = file.split(\".\")\n",
    "        im = Image.open(f\"{orig_path}/{file_name}.{ext}\").convert(\"RGB\")\n",
    "        im.save(f\"{dest_path}/{file_name}.jpg\",\"jpeg\")"
   ]
  },
  {
   "cell_type": "code",
   "execution_count": 147,
   "metadata": {},
   "outputs": [],
   "source": [
    "brand= 'under_armour'\n",
    "ext= \".png\""
   ]
  },
  {
   "cell_type": "code",
   "execution_count": 148,
   "metadata": {},
   "outputs": [],
   "source": [
    "orig_path = f\"/Users/jandas/Documents/dataScience/Lighthouse/ds_bootcamp/lighthouse-projects/cnn-project-information/drive-download-20210802T232451Z-001/new_images/{brand}\"\n",
    "dest_path = f\"/Users/jandas/Documents/dataScience/Lighthouse/ds_bootcamp/lighthouse-projects/cnn-project-information/drive-download-20210802T232451Z-001/new_images/{brand}\""
   ]
  },
  {
   "cell_type": "code",
   "execution_count": 149,
   "metadata": {},
   "outputs": [
    {
     "name": "stdout",
     "output_type": "stream",
     "text": [
      "['underArmour_156.png', 'underArmour_127.png', 'underArmour_99.png', 'underArmour_159.png', 'underArmour_165.png', 'underArmour_213.png', 'underArmour_3.png', 'underArmour_163.png']\n"
     ]
    }
   ],
   "source": [
    "files_new = get_files_no_jpg(orig_path,ext)\n",
    "print(files_new)"
   ]
  },
  {
   "cell_type": "code",
   "execution_count": 150,
   "metadata": {},
   "outputs": [],
   "source": [
    "convert_to_png(files_new, orig_path, dest_path)"
   ]
  },
  {
   "cell_type": "code",
   "execution_count": 48,
   "metadata": {},
   "outputs": [
    {
     "data": {
      "text/plain": [
       "'png'"
      ]
     },
     "execution_count": 48,
     "metadata": {},
     "output_type": "execute_result"
    }
   ],
   "source": [
    "b"
   ]
  },
  {
   "cell_type": "code",
   "execution_count": null,
   "metadata": {},
   "outputs": [],
   "source": [
    "adidas_43.png\n",
    "adidas_44.png\n",
    "adidas_63.png\n",
    "adidas_67.png\n",
    "adidas_68.png\n",
    "adidas_75.png"
   ]
  }
 ],
 "metadata": {
  "kernelspec": {
   "display_name": "Python 3",
   "language": "python",
   "name": "python3"
  },
  "language_info": {
   "codemirror_mode": {
    "name": "ipython",
    "version": 3
   },
   "file_extension": ".py",
   "mimetype": "text/x-python",
   "name": "python",
   "nbconvert_exporter": "python",
   "pygments_lexer": "ipython3",
   "version": "3.8.5"
  }
 },
 "nbformat": 4,
 "nbformat_minor": 4
}
